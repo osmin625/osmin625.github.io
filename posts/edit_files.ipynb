{
 "cells": [
  {
   "cell_type": "code",
   "execution_count": 37,
   "metadata": {},
   "outputs": [],
   "source": [
    "import os\n",
    "from pathlib import Path\n",
    "from filecmp import cmp\n",
    "import fileinput\n",
    "import re"
   ]
  },
  {
   "cell_type": "code",
   "execution_count": 27,
   "metadata": {},
   "outputs": [
    {
     "data": {
      "text/plain": [
       "['1 epoch.md',\n",
       " '1x1 Convolution.md',\n",
       " '5F 주간회고록 230806.md',\n",
       " 'Alexnet 모델의 파라미터 수 계산해보기.md',\n",
       " 'Autoregression.md',\n",
       " 'backpropagation.md',\n",
       " 'Backward.md',\n",
       " 'Book Rating Prediction Wrap-up Report.md',\n",
       " 'CBOW.md',\n",
       " 'DeepFM.md',\n",
       " 'edit_files.ipynb',\n",
       " 'FFM Field-aware Factorization Machine.md',\n",
       " 'FM Factorization Machine.md',\n",
       " 'Git Branch.md',\n",
       " 'Gradient_Descent.md',\n",
       " 'Hyperparameter_tuning.md',\n",
       " 'KPT 일일회고록 20230628.md',\n",
       " 'KPT 일일회고록 20230629.md',\n",
       " 'KPT 일일회고록 230326.md',\n",
       " 'KPT 일일회고록 230327.md',\n",
       " 'KPT 일일회고록 230328.md',\n",
       " 'KPT 일일회고록 230401.md',\n",
       " 'KPT 일일회고록 230623.md',\n",
       " 'KPT 일일회고록 230624.md',\n",
       " 'LeakGAN.md',\n",
       " 'lorem-ipsum.md',\n",
       " 'Loss function.md',\n",
       " 'LSTM.md',\n",
       " 'markdown-syntax.md',\n",
       " 'MF Matrix Factorization.md',\n",
       " 'MICE.md',\n",
       " 'nbcf-neighborhood-based-cf.md',\n",
       " 'Optimizer.md',\n",
       " 'Polynomial Interpolation.md',\n",
       " 'PyTorch Datasets & DataLoaders.md',\n",
       " 'PyTorch nn Parameter.md',\n",
       " 'Pytorch overview.md',\n",
       " 'PyTorch 모델 불러오기.md',\n",
       " 'PyTorch 모델 정의하기.md',\n",
       " 'Recsys Overview.md',\n",
       " 'SG.md',\n",
       " 'SGNS.md',\n",
       " 'SVD Singular Value Decomposition(특이값 분해).md',\n",
       " 'Taylor Polynomials.md',\n",
       " 'Tensor.md',\n",
       " 'test1.md',\n",
       " 'TF IDF Implement.md',\n",
       " 'TF IDF.md',\n",
       " 'theme-documentation-advanced.md',\n",
       " 'theme-documentation-basics.md',\n",
       " 'WDN Wide & Deep Network.md',\n",
       " '네이버 부스트캠프 AI Tech 회고 1 — 강의, 대회.md',\n",
       " '네이버 부스트캠프 AI Tech 회고 2 — Upstage 기업연계 프로젝트.md',\n",
       " '수치 미분.md',\n",
       " '연관 분석.md',\n",
       " '인기도 기반 추천.md',\n",
       " '추천 시스템 평가 지표.md',\n",
       " '추천 시스템.md',\n",
       " '프로젝트 식별 및 관리.md']"
      ]
     },
     "execution_count": 27,
     "metadata": {},
     "output_type": "execute_result"
    }
   ],
   "source": [
    "list_ = os.listdir('./')\n",
    "list_"
   ]
  },
  {
   "cell_type": "code",
   "execution_count": 26,
   "metadata": {},
   "outputs": [
    {
     "name": "stdout",
     "output_type": "stream",
     "text": [
      "./2023-05-14-MF Matrix Factorization.md\n",
      "./2023-05-20-1x1 Convolution.md\n",
      "./2023-05-20-Alexnet 모델의 파라미터 수 계산해보기.md\n",
      "./2023-05-21-FM Factorization Machine.md\n",
      "./2023-05-22-CBOW.md\n",
      "./2023-05-22-SG.md\n",
      "./2023-05-22-SGNS.md\n",
      "./2023-05-24-DeepFM.md\n",
      "./2023-05-25-FFM Field-aware Factorization Machine.md\n",
      "./2023-05-26-WDN Wide & Deep Network.md\n",
      "./2023-05-28-SVD Singular Value Decomposition(특이값 분해).md\n",
      "./2023-06-02-Git Branch.md\n",
      "./2023-06-06-추천 시스템 평가 지표.md\n",
      "./2023-06-13-Backward.md\n",
      "./2023-06-14-인기도 기반 추천.md\n",
      "./2023-06-19-프로젝트 식별 및 관리.md\n",
      "./2023-06-21-MICE.md\n",
      "./2023-06-24-KPT 일일회고록 230326.md\n",
      "./2023-06-24-KPT 일일회고록 230327.md\n",
      "./2023-06-24-KPT 일일회고록 230328.md\n",
      "./2023-06-24-KPT 일일회고록 230401.md\n",
      "./2023-06-24-KPT 일일회고록 230623.md\n",
      "./2023-06-25-KPT 일일회고록 230624.md\n",
      "./2023-06-28-KPT 일일회고록 20230628.md\n",
      "./2023-06-29-Autoregression.md\n",
      "./2023-06-29-Pytorch overview.md\n",
      "./2023-06-30-KPT 일일회고록 20230629.md\n",
      "./2023-08-06-5F 주간회고록 230806.md\n",
      "./2023-08-15-네이버 부스트캠프 AI Tech 회고 1 — 강의, 대회.md\n",
      "./2023-08-16-Book Rating Prediction Wrap-up Report.md\n",
      "./2023-09-04-네이버 부스트캠프 AI Tech 회고 2 — Upstage 기업연계 프로젝트.md\n",
      "./2023-09-12-Polynomial Interpolation.md\n",
      "./2023-09-19-PyTorch Datasets & DataLoaders.md\n",
      "./2023-09-19-Tensor.md\n",
      "./2023-09-21-Hyperparameter_tuning.md\n",
      "./2023-09-21-PyTorch nn Parameter.md\n",
      "./2023-09-21-PyTorch 모델 불러오기.md\n",
      "./2023-09-21-PyTorch 모델 정의하기.md\n",
      "./2023-09-23-Loss function.md\n",
      "./2023-09-23-Optimizer.md\n",
      "./2023-09-23-수치 미분.md\n",
      "./2023-09-24-1 epoch.md\n",
      "./2023-09-24-Gradient_Descent.md\n",
      "./2023-09-25-backpropagation.md\n",
      "./2023-09-27-Recsys Overview.md\n",
      "./2023-10-05-추천 시스템.md\n",
      "./2023-10-12-LeakGAN.md\n",
      "./2023-11-01-Taylor Polynomials.md\n",
      "./2023-11-13-연관 분석.md\n",
      "./2023-11-15-TF IDF.md\n",
      "./2023-11-16-TF IDF Implement.md\n",
      "./edit_files.ipynb\n",
      "./lorem-ipsum.md\n",
      "./LSTM.md\n",
      "./markdown-syntax.md\n",
      "./nbcf-neighborhood-based-cf.md\n",
      "./test1.md\n",
      "./theme-documentation-advanced.md\n",
      "./theme-documentation-basics.md\n"
     ]
    }
   ],
   "source": [
    "for f in list_:\n",
    "    print(os.path.join('./',f))\n",
    "    m = re.match(r'[0-9]{4}-[0-9]{2}-[0-9]{2}-(.+)',f)\n",
    "    if m:\n",
    "        m = m.group(1)\n",
    "        os.rename(os.path.join('./',f),os.path.join('./',m))"
   ]
  },
  {
   "cell_type": "code",
   "execution_count": 58,
   "metadata": {},
   "outputs": [
    {
     "ename": "UnicodeDecodeError",
     "evalue": "'cp949' codec can't decode byte 0xed in position 19: illegal multibyte sequence",
     "output_type": "error",
     "traceback": [
      "\u001b[1;31m---------------------------------------------------------------------------\u001b[0m",
      "\u001b[1;31mUnicodeDecodeError\u001b[0m                        Traceback (most recent call last)",
      "Cell \u001b[1;32mIn[58], line 13\u001b[0m\n\u001b[0;32m     11\u001b[0m type_ \u001b[38;5;241m=\u001b[39m \u001b[38;5;241m0\u001b[39m\n\u001b[0;32m     12\u001b[0m header_ \u001b[38;5;241m=\u001b[39m \u001b[38;5;241m1\u001b[39m\n\u001b[1;32m---> 13\u001b[0m \u001b[43m\u001b[49m\u001b[38;5;28;43;01mfor\u001b[39;49;00m\u001b[43m \u001b[49m\u001b[43mline\u001b[49m\u001b[43m \u001b[49m\u001b[38;5;129;43;01min\u001b[39;49;00m\u001b[43m \u001b[49m\u001b[43mf\u001b[49m\u001b[43m:\u001b[49m\n\u001b[0;32m     14\u001b[0m \u001b[43m    \u001b[49m\u001b[38;5;28;43;01mif\u001b[39;49;00m\u001b[43m \u001b[49m\u001b[43mheader_\u001b[49m\u001b[43m:\u001b[49m\n\u001b[0;32m     15\u001b[0m \u001b[43m        \u001b[49m\u001b[38;5;28;43;01mif\u001b[39;49;00m\u001b[43m \u001b[49m\u001b[43mline\u001b[49m\u001b[38;5;241;43m.\u001b[39;49m\u001b[43mstartswith\u001b[49m\u001b[43m(\u001b[49m\u001b[43m(\u001b[49m\u001b[38;5;124;43m'\u001b[39;49m\u001b[38;5;124;43mmath:\u001b[39;49m\u001b[38;5;124;43m'\u001b[39;49m\u001b[43m,\u001b[49m\u001b[38;5;124;43m'\u001b[39;49m\u001b[38;5;124;43mimg_path:\u001b[39;49m\u001b[38;5;124;43m'\u001b[39;49m\u001b[43m)\u001b[49m\u001b[43m)\u001b[49m\u001b[43m:\u001b[49m\n",
      "File \u001b[1;32mc:\\Python312\\Lib\\fileinput.py:251\u001b[0m, in \u001b[0;36mFileInput.__next__\u001b[1;34m(self)\u001b[0m\n\u001b[0;32m    249\u001b[0m \u001b[38;5;28;01mdef\u001b[39;00m \u001b[38;5;21m__next__\u001b[39m(\u001b[38;5;28mself\u001b[39m):\n\u001b[0;32m    250\u001b[0m     \u001b[38;5;28;01mwhile\u001b[39;00m \u001b[38;5;28;01mTrue\u001b[39;00m:\n\u001b[1;32m--> 251\u001b[0m         line \u001b[38;5;241m=\u001b[39m \u001b[38;5;28;43mself\u001b[39;49m\u001b[38;5;241;43m.\u001b[39;49m\u001b[43m_readline\u001b[49m\u001b[43m(\u001b[49m\u001b[43m)\u001b[49m\n\u001b[0;32m    252\u001b[0m         \u001b[38;5;28;01mif\u001b[39;00m line:\n\u001b[0;32m    253\u001b[0m             \u001b[38;5;28mself\u001b[39m\u001b[38;5;241m.\u001b[39m_filelineno \u001b[38;5;241m+\u001b[39m\u001b[38;5;241m=\u001b[39m \u001b[38;5;241m1\u001b[39m\n",
      "File \u001b[1;32mc:\\Python312\\Lib\\fileinput.py:372\u001b[0m, in \u001b[0;36mFileInput._readline\u001b[1;34m(self)\u001b[0m\n\u001b[0;32m    370\u001b[0m             \u001b[38;5;28mself\u001b[39m\u001b[38;5;241m.\u001b[39m_file \u001b[38;5;241m=\u001b[39m \u001b[38;5;28mopen\u001b[39m(\u001b[38;5;28mself\u001b[39m\u001b[38;5;241m.\u001b[39m_filename, \u001b[38;5;28mself\u001b[39m\u001b[38;5;241m.\u001b[39m_mode, encoding\u001b[38;5;241m=\u001b[39mencoding, errors\u001b[38;5;241m=\u001b[39m\u001b[38;5;28mself\u001b[39m\u001b[38;5;241m.\u001b[39m_errors)\n\u001b[0;32m    371\u001b[0m \u001b[38;5;28mself\u001b[39m\u001b[38;5;241m.\u001b[39m_readline \u001b[38;5;241m=\u001b[39m \u001b[38;5;28mself\u001b[39m\u001b[38;5;241m.\u001b[39m_file\u001b[38;5;241m.\u001b[39mreadline  \u001b[38;5;66;03m# hide FileInput._readline\u001b[39;00m\n\u001b[1;32m--> 372\u001b[0m \u001b[38;5;28;01mreturn\u001b[39;00m \u001b[38;5;28;43mself\u001b[39;49m\u001b[38;5;241;43m.\u001b[39;49m\u001b[43m_readline\u001b[49m\u001b[43m(\u001b[49m\u001b[43m)\u001b[49m\n",
      "\u001b[1;31mUnicodeDecodeError\u001b[0m: 'cp949' codec can't decode byte 0xed in position 19: illegal multibyte sequence"
     ]
    }
   ],
   "source": [
    "# title = 'Test1'\n",
    "# date = 2024-01-29T01:12:48+09:00\n",
    "# date: 2023-04-03-2:17:00 +0900\n",
    "# draft = false\n",
    "# categories: [DL Framework, PyTorch]\n",
    "# tags: [PyTorch, Parameter, weight]\n",
    "# math: true\n",
    "# img_path: /imgs/\n",
    "for fname in list_:\n",
    "    with fileinput.FileInput(fname,inplace=True, encoding='utf-8') as f:\n",
    "        type_ = 0\n",
    "        header_ = 1\n",
    "        for line in f:\n",
    "            if header_:\n",
    "                if line.startswith(('math:','img_path:')):\n",
    "                    continue\n",
    "                elif line.startswith('date'):\n",
    "                    if ' +0900' in line:\n",
    "                        line = line[:-7]\n",
    "                        line += '+09:00\\n'\n",
    "                    if 'T' not in line:\n",
    "                        line = line[:16] + 'T' + line[17:]\n",
    "                elif line.startswith('type:'):\n",
    "                    type_ += 1\n",
    "                elif not f.isfirstline() and not type_ and line.startswith(('---', '+++')):\n",
    "                    print('type: post')\n",
    "                    header_ = 0\n",
    "            print(line, end='')\n",
    "        \n",
    "\n"
   ]
  }
 ],
 "metadata": {
  "kernelspec": {
   "display_name": "Python 3",
   "language": "python",
   "name": "python3"
  },
  "language_info": {
   "codemirror_mode": {
    "name": "ipython",
    "version": 3
   },
   "file_extension": ".py",
   "mimetype": "text/x-python",
   "name": "python",
   "nbconvert_exporter": "python",
   "pygments_lexer": "ipython3",
   "version": "3.12.1"
  }
 },
 "nbformat": 4,
 "nbformat_minor": 2
}
